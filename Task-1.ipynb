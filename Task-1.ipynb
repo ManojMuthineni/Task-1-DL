{
 "cells": [
  {
   "cell_type": "markdown",
   "id": "c5aede22",
   "metadata": {},
   "source": [
    "# Create a Mcp based neuron with the help of class and function"
   ]
  },
  {
   "cell_type": "code",
   "execution_count": 1,
   "id": "07bb4714",
   "metadata": {},
   "outputs": [
    {
     "name": "stdout",
     "output_type": "stream",
     "text": [
      "1\n"
     ]
    }
   ],
   "source": [
    "class MCPNeuron:\n",
    "    def __init__(self, weights, threshold):\n",
    "        self.weights = weights\n",
    "        self.threshold = threshold\n",
    "\n",
    "    def fire(self, inputs):\n",
    "        weighted_sum = sum(w * x for w, x in zip(self.weights, inputs))\n",
    "        output = 1 if weighted_sum >= self.threshold else 0\n",
    "        return output\n",
    "\n",
    "\n",
    "# Example usage:\n",
    "weights = [0.5, 0.8, -0.2]  # Weights for the inputs\n",
    "threshold = 0.3\n",
    "\n",
    "neuron = MCPNeuron(weights, threshold)\n",
    "inputs = [0, 1, 1]  # Input values\n",
    "output = neuron.fire(inputs)\n",
    "print(output)\n"
   ]
  },
  {
   "cell_type": "markdown",
   "id": "cefa6128",
   "metadata": {},
   "source": [
    "# here your activation function should be and,or and your inputs can be in n dimensional"
   ]
  },
  {
   "cell_type": "code",
   "execution_count": 3,
   "id": "a6a38a2a",
   "metadata": {},
   "outputs": [
    {
     "name": "stdout",
     "output_type": "stream",
     "text": [
      "AND output: 1\n",
      "OR output: 1\n"
     ]
    }
   ],
   "source": [
    "class MCPNeuron:\n",
    "    def __init__(self, weights, threshold, activation_func):\n",
    "        self.weights = weights\n",
    "        self.threshold = threshold\n",
    "        self.activation_func = activation_func\n",
    "\n",
    "    def fire(self, inputs):\n",
    "        weighted_sum = sum(w * x for w, x in zip(self.weights, inputs))\n",
    "        output = self.activation_func(weighted_sum, self.threshold)\n",
    "        return output\n",
    "\n",
    "\n",
    "# Activation function for logical AND\n",
    "def logical_and_activation(weighted_sum, threshold):\n",
    "    return 1 if weighted_sum >= threshold else 0\n",
    "\n",
    "\n",
    "# Activation function for logical OR\n",
    "def logical_or_activation(weighted_sum, threshold):\n",
    "    return 0 if weighted_sum < threshold else 1\n",
    "\n",
    "\n",
    "# Example usage:\n",
    "weights = [0.5, 0.8, -0.2]  # Weights for the inputs\n",
    "threshold = 0.3\n",
    "\n",
    "and_neuron = MCPNeuron(weights, threshold, logical_and_activation)\n",
    "or_neuron = MCPNeuron(weights, threshold, logical_or_activation)\n",
    "\n",
    "inputs = [0, 1, 1]  # Input values\n",
    "and_output = and_neuron.fire(inputs)\n",
    "or_output = or_neuron.fire(inputs)\n",
    "\n",
    "print(\"AND output:\", and_output)\n",
    "print(\"OR output:\", or_output)\n"
   ]
  },
  {
   "cell_type": "markdown",
   "id": "5aff5e14",
   "metadata": {},
   "source": [
    "# your function should work for both and as well as for or\n",
    "\n"
   ]
  },
  {
   "cell_type": "code",
   "execution_count": 4,
   "id": "093feafa",
   "metadata": {},
   "outputs": [
    {
     "name": "stdout",
     "output_type": "stream",
     "text": [
      "AND output: 1\n",
      "OR output: 1\n"
     ]
    }
   ],
   "source": [
    "class MCPNeuron:\n",
    "    def __init__(self, weights, threshold):\n",
    "        self.weights = weights\n",
    "        self.threshold = threshold\n",
    "\n",
    "    def fire(self, inputs, operation):\n",
    "        weighted_sum = sum(w * x for w, x in zip(self.weights, inputs))\n",
    "        output = self.activation_func(weighted_sum, self.threshold, operation)\n",
    "        return output\n",
    "\n",
    "    @staticmethod\n",
    "    def activation_func(weighted_sum, threshold, operation):\n",
    "        if operation == 'AND':\n",
    "            return 1 if weighted_sum >= threshold else 0\n",
    "        elif operation == 'OR':\n",
    "            return 0 if weighted_sum < threshold else 1\n",
    "        else:\n",
    "            raise ValueError(\"Invalid operation. Only 'AND' and 'OR' are supported.\")\n",
    "\n",
    "# Example usage:\n",
    "weights = [0.5, 0.8, -0.2]  # Weights for the inputs\n",
    "threshold = 0.3\n",
    "\n",
    "neuron = MCPNeuron(weights, threshold)\n",
    "inputs = [0, 1, 1]  # Input values\n",
    "\n",
    "and_output = neuron.fire(inputs, operation='AND')\n",
    "or_output = neuron.fire(inputs, operation='OR')\n",
    "\n",
    "print(\"AND output:\", and_output)\n",
    "print(\"OR output:\", or_output)\n"
   ]
  },
  {
   "cell_type": "code",
   "execution_count": null,
   "id": "b3595a8a",
   "metadata": {},
   "outputs": [],
   "source": []
  }
 ],
 "metadata": {
  "kernelspec": {
   "display_name": "Python 3 (ipykernel)",
   "language": "python",
   "name": "python3"
  },
  "language_info": {
   "codemirror_mode": {
    "name": "ipython",
    "version": 3
   },
   "file_extension": ".py",
   "mimetype": "text/x-python",
   "name": "python",
   "nbconvert_exporter": "python",
   "pygments_lexer": "ipython3",
   "version": "3.9.13"
  }
 },
 "nbformat": 4,
 "nbformat_minor": 5
}
